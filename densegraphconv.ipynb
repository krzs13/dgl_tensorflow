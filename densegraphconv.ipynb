{
  "nbformat": 4,
  "nbformat_minor": 0,
  "metadata": {
    "colab": {
      "name": "densegraphconv.ipynb",
      "provenance": [],
      "collapsed_sections": [],
      "authorship_tag": "ABX9TyPkOxkUd6DCzEiUs2lt4DoW",
      "include_colab_link": true
    },
    "kernelspec": {
      "name": "python3",
      "display_name": "Python 3"
    }
  },
  "cells": [
    {
      "cell_type": "markdown",
      "metadata": {
        "id": "view-in-github",
        "colab_type": "text"
      },
      "source": [
        "<a href=\"https://colab.research.google.com/github/krzs13/dgl_tensorflow/blob/main/densegraphconv.ipynb\" target=\"_parent\"><img src=\"https://colab.research.google.com/assets/colab-badge.svg\" alt=\"Open In Colab\"/></a>"
      ]
    },
    {
      "cell_type": "code",
      "metadata": {
        "id": "wrFZinb5DzbK"
      },
      "source": [
        "import tensorflow as tf\n",
        "from tensorflow.keras import layers\n",
        "import numpy as np"
      ],
      "execution_count": 1,
      "outputs": []
    },
    {
      "cell_type": "code",
      "metadata": {
        "id": "ugnBOqbtEZEG"
      },
      "source": [
        "class DenseGraphConv(layers.Layer):\n",
        "    def __init__(self,\n",
        "                 in_feats,\n",
        "                 out_feats,\n",
        "                 norm='both',\n",
        "                 bias=True,\n",
        "                 activation=None):\n",
        "        super(DenseGraphConv, self).__init__()\n",
        "        self._in_feats = in_feats\n",
        "        self._out_feats = out_feats\n",
        "        self._norm = norm\n",
        "        xinit = tf.keras.initializers.glorot_uniform()\n",
        "        self.weight = tf.Variable(initial_value=xinit(\n",
        "            shape=(in_feats, out_feats), dtype='float32'), trainable=True)\n",
        "        \n",
        "        if bias:\n",
        "            zeroinit = tf.keras.initializers.zeros()\n",
        "            self.bias = tf.Variable(initial_value=zeroinit(\n",
        "                shape=(out_feats), dtype='float32'), trainable=True)\n",
        "        else:\n",
        "            self.bias = None\n",
        "\n",
        "        self._activation = activation\n",
        "\n",
        "    def call(self, adj, feat):\n",
        "        with tf.device(feat.device):\n",
        "            adj = tf.cast(adj, feat.dtype)        \n",
        "        \n",
        "        feat_src = feat\n",
        "\n",
        "        if self._norm == 'both':\n",
        "            src_degrees = tf.clip_by_value(tf.math.reduce_sum(adj, axis=0), \n",
        "                                           clip_value_min=1, \n",
        "                                           clip_value_max=np.inf)\n",
        "            norm_src = tf.pow(src_degrees, -0.5)\n",
        "            shp_src = norm_src.shape + (1,) * (feat_src.ndim - 1)\n",
        "\n",
        "            with tf.device(feat.device):\n",
        "                norm_src = tf.reshape(norm_src, shp_src)\n",
        "\n",
        "            feat_src = feat_src * norm_src\n",
        "\n",
        "        if self._in_feats > self._out_feats:\n",
        "            # mult W first to reduce the feature size for aggregation.\n",
        "            feat_src = tf.matmul(feat_src, self.weight)\n",
        "            rst = tf.tensordot(adj, feat_src)\n",
        "        else:\n",
        "            # aggregate first then mult W\n",
        "            rst = tf.tensordot(adj, feat_src)\n",
        "            feat_src = tf.matmul(feat_src, self.weight)\n",
        "\n",
        "        if self._norm != 'none':\n",
        "            dst_degrees = tf.clip_by_value(tf.math.reduce_sum(adj, axis=1),\n",
        "                                           clip_value_min=1,\n",
        "                                           clip_value_max=np.inf)\n",
        "\n",
        "            if self._norm == 'both':\n",
        "                norm_dst = tf.pow(dst_degrees, -0.5)\n",
        "            else:  # right\n",
        "                norm_dst = 1.0 / dst_degrees\n",
        "\n",
        "            shp_dst = norm_dst.shape + (1,) * (feat.ndim - 1)\n",
        "            \n",
        "            with tf.device(feat.device):\n",
        "                norm_dst = tf.reshape(norm_dst, shp_dst)\n",
        "\n",
        "            rst = rst * norm_dst\n",
        "\n",
        "            if self.bias is not None:\n",
        "                rst = rst + self.bias\n",
        "\n",
        "            if self._activation is not None:\n",
        "                rst = self._activation(rst)\n",
        "\n",
        "            return rst\n"
      ],
      "execution_count": 6,
      "outputs": []
    }
  ]
}